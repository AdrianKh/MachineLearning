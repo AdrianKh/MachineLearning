{
 "cells": [
  {
   "cell_type": "markdown",
   "metadata": {},
   "source": [
    "## SAADALLAH Ahmed & KHELILI Adrian"
   ]
  },
  {
   "cell_type": "code",
   "execution_count": 2,
   "metadata": {},
   "outputs": [],
   "source": [
    "import numpy as np \n",
    "np.set_printoptions(threshold=10000,suppress=True) \n",
    "import pandas as pd\n",
    "import warnings\n",
    "import matplotlib.pyplot as plt \n",
    "warnings.filterwarnings('ignore')"
   ]
  },
  {
   "cell_type": "markdown",
   "metadata": {},
   "source": [
    "# Partie 1"
   ]
  },
  {
   "cell_type": "markdown",
   "metadata": {},
   "source": [
    "### Chargement des données et préparation"
   ]
  },
  {
   "cell_type": "code",
   "execution_count": 3,
   "metadata": {},
   "outputs": [],
   "source": [
    "credit=pd.read_csv('./datas/credit_scoring.csv',sep=\";\",header=0)"
   ]
  },
  {
   "cell_type": "code",
   "execution_count": 4,
   "metadata": {},
   "outputs": [],
   "source": [
    "credit.head(3)\n",
    "nom_cols = credit.columns"
   ]
  },
  {
   "cell_type": "code",
   "execution_count": 5,
   "metadata": {},
   "outputs": [
    {
     "data": {
      "text/plain": [
       "(4375, 14)"
      ]
     },
     "execution_count": 5,
     "metadata": {},
     "output_type": "execute_result"
    }
   ],
   "source": [
    "credit.shape"
   ]
  },
  {
   "cell_type": "code",
   "execution_count": 6,
   "metadata": {},
   "outputs": [],
   "source": [
    "X=credit.iloc[:,:13].values\n",
    "Y=credit.iloc[:,13].values"
   ]
  },
  {
   "cell_type": "code",
   "execution_count": 7,
   "metadata": {},
   "outputs": [
    {
     "name": "stdout",
     "output_type": "stream",
     "text": [
      "% Bon payeurs : 72.21 % Mauvais payeurs : 27.79\n"
     ]
    }
   ],
   "source": [
    "mp=100*np.sum(Y==0)/len(Y)\n",
    "bp=100*np.sum(Y==1)/len(Y)\n",
    "\n",
    "print(\"% Bon payeurs : {0:.2f} % Mauvais payeurs : {1:.2f}\".format(bp,mp))"
   ]
  },
  {
   "cell_type": "raw",
   "metadata": {},
   "source": [
    "Il faut donc un modèle avec une accuracy au moins supérieure à 72,21% car un modèle qui répond toujours par la classe majoritaire atteint 72,21%."
   ]
  },
  {
   "cell_type": "code",
   "execution_count": 8,
   "metadata": {},
   "outputs": [],
   "source": [
    "from sklearn.model_selection import train_test_split\n",
    "from sklearn.tree import DecisionTreeClassifier\n",
    "from sklearn.neighbors import KNeighborsClassifier\n",
    "from sklearn.metrics import confusion_matrix,accuracy_score\n",
    "from sklearn.preprocessing import StandardScaler\n",
    "from sklearn.decomposition import PCA\n",
    "from sklearn.ensemble import BaggingClassifier"
   ]
  },
  {
   "cell_type": "code",
   "execution_count": 9,
   "metadata": {},
   "outputs": [],
   "source": [
    "Xtrain,Xtest,Ytrain,Ytest=train_test_split(X,Y,test_size=0.5,random_state=1)"
   ]
  },
  {
   "cell_type": "markdown",
   "metadata": {},
   "source": [
    "## Lancement des classifieurs"
   ]
  },
  {
   "cell_type": "code",
   "execution_count": 10,
   "metadata": {},
   "outputs": [],
   "source": [
    "def classifieurs(Xtrain,Xtest,Ytrain,Ytest):\n",
    "    DT=DecisionTreeClassifier(criterion='gini',random_state=1) #CART\n",
    "    DT.fit(Xtrain,Ytrain)\n",
    "    YDT=DT.predict(Xtest)\n",
    "\n",
    "    print(\"Arbre de décision : Accuracy = {0:.2f}\".format(accuracy_score(Ytest,YDT)*100))\n",
    "    print(confusion_matrix(Ytest,YDT))\n",
    "\n",
    "    print()\n",
    "\n",
    "    KNN=KNeighborsClassifier(n_neighbors=5) #KNN\n",
    "    KNN.fit(Xtrain,Ytrain)\n",
    "    YKNN=KNN.predict(Xtest)\n",
    "\n",
    "    print(\"KNN : Accuracy = {0:.2f}\".format(accuracy_score(Ytest,YKNN)*100))\n",
    "    print(confusion_matrix(Ytest,YKNN))\n",
    "\n",
    "    print()"
   ]
  },
  {
   "cell_type": "code",
   "execution_count": 11,
   "metadata": {},
   "outputs": [
    {
     "name": "stdout",
     "output_type": "stream",
     "text": [
      "Arbre de décision : Accuracy = 72.71\n",
      "[[ 325  279]\n",
      " [ 318 1266]]\n",
      "\n",
      "KNN : Accuracy = 72.49\n",
      "[[ 189  415]\n",
      " [ 187 1397]]\n",
      "\n"
     ]
    }
   ],
   "source": [
    "classifieurs(Xtrain,Xtest,Ytrain,Ytest)"
   ]
  },
  {
   "cell_type": "raw",
   "metadata": {},
   "source": [
    "Dans ce jeu de données la précision est le critère le plus pertinent, car on cherche à minimiser les mauvais payeurs prédits comme des bon payeurs.\n",
    "\n",
    "Comparaison des algorithmes:\n",
    "On remarque que l'arbre de décision présente une accuracy légèrement meilleure comparé à KNN."
   ]
  },
  {
   "cell_type": "markdown",
   "metadata": {},
   "source": [
    "### Normalisation des données"
   ]
  },
  {
   "cell_type": "code",
   "execution_count": 12,
   "metadata": {
    "scrolled": true
   },
   "outputs": [
    {
     "name": "stdout",
     "output_type": "stream",
     "text": [
      "Arbre de décision : Accuracy = 72.71\n",
      "[[ 322  282]\n",
      " [ 315 1269]]\n",
      "\n",
      "KNN : Accuracy = 75.27\n",
      "[[ 286  318]\n",
      " [ 223 1361]]\n",
      "\n"
     ]
    }
   ],
   "source": [
    "SS=StandardScaler()\n",
    "SS.fit(Xtrain)\n",
    "Xtrain_norm=SS.transform(Xtrain)\n",
    "Xtest_norm=SS.transform(Xtest)\n",
    "\n",
    "classifieurs(Xtrain_norm,Xtest_norm,Ytrain,Ytest)"
   ]
  },
  {
   "cell_type": "raw",
   "metadata": {},
   "source": [
    "Après normalisation des données, on s'apperçoit que le KNN atteint 75,27% d'accuracy car on donne desormais la même importance pour chaque attribut lors du calcul de la distance des points."
   ]
  },
  {
   "cell_type": "markdown",
   "metadata": {},
   "source": [
    "### Création de nouvelles variables caractéristiques par combinaisons linéaires des variables initiales"
   ]
  },
  {
   "cell_type": "code",
   "execution_count": 13,
   "metadata": {},
   "outputs": [
    {
     "name": "stdout",
     "output_type": "stream",
     "text": [
      "Arbre de décision : Accuracy = 73.63\n",
      "[[ 351  253]\n",
      " [ 324 1260]]\n",
      "\n",
      "KNN : Accuracy = 75.64\n",
      "[[ 283  321]\n",
      " [ 212 1372]]\n",
      "\n"
     ]
    }
   ],
   "source": [
    "pca=PCA(n_components=3)\n",
    "pca.fit(Xtrain_norm)\n",
    "Xtrain_pca=np.concatenate((Xtrain_norm,pca.transform(Xtrain_norm)),axis=1)\n",
    "Xtest_pca=np.concatenate((Xtest_norm,pca.transform(Xtest_norm)),axis=1)\n",
    "classifieurs(Xtrain_pca,Xtest_pca,Ytrain,Ytest)\n"
   ]
  },
  {
   "cell_type": "raw",
   "metadata": {},
   "source": [
    "On remarque que les nouveaux attributs ajoutés ont augmenté l'accuracy des deux algorithmes."
   ]
  },
  {
   "cell_type": "code",
   "execution_count": 14,
   "metadata": {},
   "outputs": [
    {
     "name": "stdout",
     "output_type": "stream",
     "text": [
      "Bagging : Accuracy = 78.56\n",
      "[[ 332  272]\n",
      " [ 197 1387]]\n"
     ]
    }
   ],
   "source": [
    "BAG=BaggingClassifier(n_estimators=100,random_state=1) #BAG\n",
    "BAG.fit(Xtrain,Ytrain)\n",
    "YBAG=BAG.predict(Xtest)\n",
    "print(\"Bagging : Accuracy = {0:.2f}\".format(accuracy_score(Ytest,YBAG)*100))\n",
    "print(confusion_matrix(Ytest,YBAG))"
   ]
  },
  {
   "cell_type": "markdown",
   "metadata": {},
   "source": [
    "### Sélection de variables"
   ]
  },
  {
   "cell_type": "code",
   "execution_count": 15,
   "metadata": {},
   "outputs": [],
   "source": [
    "from sklearn.ensemble import RandomForestClassifier\n",
    "clf = RandomForestClassifier(n_estimators=100)\n",
    "clf.fit(Xtrain_norm, Ytrain)\n",
    "importances=clf.feature_importances_\n",
    "var = [tree.feature_importances_ for tree in clf.estimators_]\n",
    "std = np.std([tree.feature_importances_ for tree in clf.estimators_],axis=0)\n",
    "sorted_idx = np.argsort(importances)[::-1]\n",
    "features =nom_cols"
   ]
  },
  {
   "cell_type": "code",
   "execution_count": 16,
   "metadata": {},
   "outputs": [
    {
     "data": {
      "image/png": "[encoded data removed]",
      "text/plain": [
       "<Figure size 432x288 with 1 Axes>"
      ]
     },
     "metadata": {
      "needs_background": "light"
     },
     "output_type": "display_data"
    }
   ],
   "source": [
    "padding = np.arange(Xtrain_norm.size/len(Xtrain_norm)) + 0.5\n",
    "plt.barh(padding, importances[sorted_idx],xerr=std[sorted_idx], align='center')\n",
    "plt.yticks(padding, features[sorted_idx])\n",
    "plt.xlabel(\"Relative Importance\")\n",
    "plt.title(\"Variable Importance\")\n",
    "plt.show()"
   ]
  },
  {
   "cell_type": "code",
   "execution_count": 17,
   "metadata": {},
   "outputs": [],
   "source": [
    "KNN=KNeighborsClassifier(n_neighbors=5)\n",
    "scores=np.zeros(Xtrain_norm.shape[1]+1)\n",
    "for f in np.arange(0, Xtrain_norm.shape[1]+1):\n",
    "    X1_f = Xtrain_norm[:,sorted_idx[:f+1]]\n",
    "    X2_f = Xtest_norm[:,sorted_idx[:f+1]]\n",
    "    KNN.fit(X1_f,Ytrain)\n",
    "    YKNN=KNN.predict(X2_f)\n",
    "    scores[f]=np.round(accuracy_score(Ytest,YKNN),3)"
   ]
  },
  {
   "cell_type": "code",
   "execution_count": 18,
   "metadata": {},
   "outputs": [
    {
     "data": {
      "image/png": "[encoded data removed]",
      "text/plain": [
       "<Figure size 432x288 with 1 Axes>"
      ]
     },
     "metadata": {
      "needs_background": "light"
     },
     "output_type": "display_data"
    }
   ],
   "source": [
    "plt.plot(scores)\n",
    "plt.xlabel(\"Nombre de Variables\")\n",
    "plt.ylabel(\"Accuracy\")\n",
    "plt.title(\"Evolution de l'accuracy en fonction des variables\")\n",
    "plt.show()"
   ]
  },
  {
   "cell_type": "raw",
   "metadata": {},
   "source": [
    "On prend les 11 premières variables, car elles offrent la meilleure accuracy."
   ]
  },
  {
   "cell_type": "code",
   "execution_count": 19,
   "metadata": {},
   "outputs": [],
   "source": [
    "Xtrain_norm_select = Xtrain_norm[:,sorted_idx[:11]] \n",
    "Xtest_norm_select = Xtest_norm[:,sorted_idx[:11]]"
   ]
  },
  {
   "cell_type": "markdown",
   "metadata": {},
   "source": [
    "### Random Forest Model hyperparameters"
   ]
  },
  {
   "cell_type": "code",
   "execution_count": 20,
   "metadata": {},
   "outputs": [],
   "source": [
    "# Number of trees in random forest\n",
    "criterion = [\"gini\", \"entropy\"]\n",
    "# -----\n",
    "max_features = [\"sqrt\",\"log2\"]\n",
    "# Number of features at every split\n",
    "splitter = [\"best\", \"random\"]\n",
    "# Max number of levels\n",
    "max_depth = [None,2,3,4]\n",
    "# Min npumber of samples to split a node \n",
    "min_samples_split=[2,5,7]\n",
    "# Minimum number of samples required at each leaf node\n",
    "min_samples_leaf = [1,3,5]\n",
    "# random_state \n",
    "random_state = [0]"
   ]
  },
  {
   "cell_type": "code",
   "execution_count": 21,
   "metadata": {},
   "outputs": [],
   "source": [
    "param_grid = {\n",
    "    'criterion': criterion,\n",
    "    'splitter':splitter,\n",
    "    'max_depth':max_depth,\n",
    "    'min_samples_split':min_samples_split,\n",
    "    'min_samples_leaf':min_samples_leaf,\n",
    "    'max_features': max_features,\n",
    "    'random_state': random_state\n",
    "}"
   ]
  },
  {
   "cell_type": "code",
   "execution_count": 22,
   "metadata": {},
   "outputs": [],
   "source": [
    "tree = DecisionTreeClassifier()"
   ]
  },
  {
   "cell_type": "code",
   "execution_count": 23,
   "metadata": {},
   "outputs": [],
   "source": [
    "from sklearn.model_selection import GridSearchCV\n",
    "\n",
    "tree_tuner= GridSearchCV(estimator = tree, param_grid= param_grid, cv=10, verbose=2, n_jobs=4)"
   ]
  },
  {
   "cell_type": "code",
   "execution_count": 24,
   "metadata": {
    "scrolled": false
   },
   "outputs": [
    {
     "name": "stdout",
     "output_type": "stream",
     "text": [
      "Fitting 10 folds for each of 288 candidates, totalling 2880 fits\n"
     ]
    },
    {
     "name": "stderr",
     "output_type": "stream",
     "text": [
      "[Parallel(n_jobs=4)]: Using backend LokyBackend with 4 concurrent workers.\n",
      "[Parallel(n_jobs=4)]: Done  56 tasks      | elapsed:    0.6s\n",
      "[Parallel(n_jobs=4)]: Done 2873 out of 2880 | elapsed:    2.2s remaining:    0.0s\n",
      "[Parallel(n_jobs=4)]: Done 2880 out of 2880 | elapsed:    2.2s finished\n"
     ]
    },
    {
     "data": {
      "text/plain": [
       "GridSearchCV(cv=10, estimator=DecisionTreeClassifier(), n_jobs=4,\n",
       "             param_grid={'criterion': ['gini', 'entropy'],\n",
       "                         'max_depth': [None, 2, 3, 4],\n",
       "                         'max_features': ['sqrt', 'log2'],\n",
       "                         'min_samples_leaf': [1, 3, 5],\n",
       "                         'min_samples_split': [2, 5, 7], 'random_state': [0],\n",
       "                         'splitter': ['best', 'random']},\n",
       "             verbose=2)"
      ]
     },
     "execution_count": 24,
     "metadata": {},
     "output_type": "execute_result"
    }
   ],
   "source": [
    "tree_tuner.fit(Xtrain_norm, Ytrain)"
   ]
  },
  {
   "cell_type": "code",
   "execution_count": 25,
   "metadata": {},
   "outputs": [
    {
     "data": {
      "text/plain": [
       "{'criterion': 'entropy',\n",
       " 'max_depth': 4,\n",
       " 'max_features': 'sqrt',\n",
       " 'min_samples_leaf': 1,\n",
       " 'min_samples_split': 2,\n",
       " 'random_state': 0,\n",
       " 'splitter': 'best'}"
      ]
     },
     "execution_count": 25,
     "metadata": {},
     "output_type": "execute_result"
    }
   ],
   "source": [
    "tree_tuner.best_params_"
   ]
  },
  {
   "cell_type": "code",
   "execution_count": 26,
   "metadata": {},
   "outputs": [
    {
     "name": "stdout",
     "output_type": "stream",
     "text": [
      "0.7513711151736746\n"
     ]
    }
   ],
   "source": [
    "print(tree_tuner.score(Xtest_norm,Ytest))"
   ]
  },
  {
   "cell_type": "code",
   "execution_count": 27,
   "metadata": {},
   "outputs": [],
   "source": [
    "# model Knn que nous allons tuner\n",
    "knn = KNeighborsClassifier()"
   ]
  },
  {
   "cell_type": "markdown",
   "metadata": {},
   "source": [
    "### knn hyperparameters"
   ]
  },
  {
   "cell_type": "code",
   "execution_count": 28,
   "metadata": {},
   "outputs": [],
   "source": [
    "# nombre de voisins\n",
    "n_neighbors = [x for x in range(3,12,2)]\n",
    "# puissance minkowski\n",
    "# 1 to get manhattan distance and 2 for ecludien distance\n",
    "p = [1,2] \n",
    "# weights\n",
    "weights = [\"uniform\", \"distance\"]\n",
    "# algorithms\n",
    "algorithms = [\"ball_tree\", \"kd_tree\", \"brute\"]"
   ]
  },
  {
   "cell_type": "code",
   "execution_count": 29,
   "metadata": {},
   "outputs": [],
   "source": [
    "param_grid_KNN = {\n",
    "    'n_neighbors': n_neighbors,\n",
    "    'weights' : weights,\n",
    "    'algorithm' : algorithms\n",
    "}"
   ]
  },
  {
   "cell_type": "code",
   "execution_count": 30,
   "metadata": {},
   "outputs": [],
   "source": [
    "knn_tuner = GridSearchCV(estimator = knn, param_grid= param_grid_KNN, cv=10, verbose=2, n_jobs=4)"
   ]
  },
  {
   "cell_type": "code",
   "execution_count": 31,
   "metadata": {},
   "outputs": [
    {
     "name": "stdout",
     "output_type": "stream",
     "text": [
      "Fitting 10 folds for each of 30 candidates, totalling 300 fits\n"
     ]
    },
    {
     "name": "stderr",
     "output_type": "stream",
     "text": [
      "[Parallel(n_jobs=4)]: Using backend LokyBackend with 4 concurrent workers.\n",
      "[Parallel(n_jobs=4)]: Done 136 tasks      | elapsed:    0.8s\n",
      "[Parallel(n_jobs=4)]: Done 300 out of 300 | elapsed:    1.3s finished\n"
     ]
    },
    {
     "data": {
      "text/plain": [
       "GridSearchCV(cv=10, estimator=KNeighborsClassifier(), n_jobs=4,\n",
       "             param_grid={'algorithm': ['ball_tree', 'kd_tree', 'brute'],\n",
       "                         'n_neighbors': [3, 5, 7, 9, 11],\n",
       "                         'weights': ['uniform', 'distance']},\n",
       "             verbose=2)"
      ]
     },
     "execution_count": 31,
     "metadata": {},
     "output_type": "execute_result"
    }
   ],
   "source": [
    "knn_tuner.fit(Xtrain_norm, Ytrain)"
   ]
  },
  {
   "cell_type": "code",
   "execution_count": 32,
   "metadata": {},
   "outputs": [
    {
     "data": {
      "text/plain": [
       "{'algorithm': 'ball_tree', 'n_neighbors': 11, 'weights': 'distance'}"
      ]
     },
     "execution_count": 32,
     "metadata": {},
     "output_type": "execute_result"
    }
   ],
   "source": [
    "knn_tuner.best_params_"
   ]
  },
  {
   "cell_type": "code",
   "execution_count": 33,
   "metadata": {},
   "outputs": [
    {
     "name": "stdout",
     "output_type": "stream",
     "text": [
      "0.7751371115173674\n"
     ]
    }
   ],
   "source": [
    "print(knn_tuner.score(Xtest_norm,Ytest))"
   ]
  },
  {
   "cell_type": "markdown",
   "metadata": {},
   "source": [
    "### Pipeline"
   ]
  },
  {
   "cell_type": "code",
   "execution_count": 31,
   "metadata": {},
   "outputs": [],
   "source": [
    "from sklearn.pipeline import Pipeline\n",
    "from sklearn.pipeline import FeatureUnion"
   ]
  },
  {
   "cell_type": "code",
   "execution_count": 35,
   "metadata": {},
   "outputs": [],
   "source": [
    "pipe = Pipeline([('norm', StandardScaler()),('ACP', PCA(n_components=3))])\n",
    "union_norm_pca = FeatureUnion(transformer_list=[('norm',StandardScaler()),('pipe',pipe)])"
   ]
  },
  {
   "cell_type": "code",
   "execution_count": 36,
   "metadata": {},
   "outputs": [],
   "source": [
    "pipe_knn = Pipeline([(\"union\",union_norm_pca), ('rf', KNeighborsClassifier(algorithm = 'ball_tree',\n",
    "                                                                                             n_neighbors = 11,\n",
    "                                                                                             weights = 'distance'))])"
   ]
  },
  {
   "cell_type": "code",
   "execution_count": 37,
   "metadata": {},
   "outputs": [
    {
     "data": {
      "text/plain": [
       "0.7641681901279708"
      ]
     },
     "execution_count": 37,
     "metadata": {},
     "output_type": "execute_result"
    }
   ],
   "source": [
    "pipe_knn.fit(Xtrain,Ytrain)\n",
    "pipe_knn.score(Xtest, Ytest)"
   ]
  },
  {
   "cell_type": "code",
   "execution_count": 38,
   "metadata": {},
   "outputs": [
    {
     "data": {
      "text/plain": [
       "0.8901515151515151"
      ]
     },
     "execution_count": 38,
     "metadata": {},
     "output_type": "execute_result"
    }
   ],
   "source": [
    "from sklearn.metrics import recall_score, precision_score\n",
    "Y_P = pipe_knn.predict(Xtest)\n",
    "recall_score(Ytest, Y_P)"
   ]
  },
  {
   "cell_type": "code",
   "execution_count": 39,
   "metadata": {},
   "outputs": [
    {
     "data": {
      "text/plain": [
       "0.8047945205479452"
      ]
     },
     "execution_count": 39,
     "metadata": {},
     "output_type": "execute_result"
    }
   ],
   "source": [
    "precision_score(Ytest, Y_P)"
   ]
  },
  {
   "cell_type": "code",
   "execution_count": 40,
   "metadata": {},
   "outputs": [],
   "source": [
    "import pickle"
   ]
  },
  {
   "cell_type": "code",
   "execution_count": 41,
   "metadata": {},
   "outputs": [],
   "source": [
    "filename = 'models/knn_model.sav'"
   ]
  },
  {
   "cell_type": "code",
   "execution_count": 42,
   "metadata": {},
   "outputs": [],
   "source": [
    "pickle.dump(pipe_knn, open(filename, 'wb'))"
   ]
  },
  {
   "cell_type": "code",
   "execution_count": 43,
   "metadata": {},
   "outputs": [
    {
     "name": "stdout",
     "output_type": "stream",
     "text": [
      "0.7641681901279708\n"
     ]
    }
   ],
   "source": [
    "loaded_model = pickle.load(open(filename, 'rb'))\n",
    "result = loaded_model.score(Xtest, Ytest)\n",
    "print(result)"
   ]
  },
  {
   "cell_type": "markdown",
   "metadata": {},
   "source": [
    "### Comparaison de plusieurs algorithmes d’apprentissage"
   ]
  },
  {
   "cell_type": "code",
   "execution_count": 10,
   "metadata": {},
   "outputs": [],
   "source": [
    "from sklearn.model_selection import KFold, cross_val_score\n",
    "from sklearn.neural_network import MLPClassifier\n",
    "from sklearn.naive_bayes import GaussianNB\n",
    "from sklearn.ensemble import BaggingClassifier, AdaBoostClassifier, RandomForestClassifier\n",
    "import time\n",
    "clfs = {\n",
    " 'CART': DecisionTreeClassifier(criterion=\"gini\",random_state=1),\n",
    " 'ID3' : DecisionTreeClassifier(criterion=\"entropy\",random_state=1),\n",
    " 'DSTUMP' : DecisionTreeClassifier(max_depth=1,random_state=1),\n",
    " 'MLP' : MLPClassifier(hidden_layer_sizes=(20,10), random_state=1), # the best with 0.781 accuracy\n",
    " 'KNN' : KNeighborsClassifier(algorithm = 'ball_tree',n_neighbors = 11, weights = 'distance'),\n",
    " 'NB' : GaussianNB(),\n",
    " 'BAGGING' : BaggingClassifier(n_estimators=50, random_state=1), \n",
    " 'BAGGING_KNN' : BaggingClassifier(base_estimator=KNeighborsClassifier(algorithm = 'ball_tree',n_neighbors = 11, weights = 'distance'), n_estimators=50, random_state=1), \n",
    " 'BOOSTING' : AdaBoostClassifier( n_estimators=50, random_state=1),\n",
    " 'RF' : RandomForestClassifier(n_estimators=100,criterion='gini',random_state=1)\n",
    "}"
   ]
  },
  {
   "cell_type": "code",
   "execution_count": 11,
   "metadata": {},
   "outputs": [],
   "source": [
    "def run_classifiers(X, Y, classifiers, multi_class = True):\n",
    "    kf = KFold(n_splits=10, shuffle=True, random_state=0)\n",
    "    kf2 = KFold(n_splits=5, shuffle=True, random_state=0)\n",
    "    for i in classifiers:\n",
    "        clf = classifiers[i]\n",
    "        before= time.time()\n",
    "        cv_acc = cross_val_score(clf, X, Y, cv=kf)\n",
    "        after = time.time()\n",
    "        print(\"---------------------------\")\n",
    "        exec_time = after-before\n",
    "        print(\"Time for {0} to train is : {1}\".format(i, exec_time))\n",
    "        print(\"Accuracy for {0} is: {1:.3f} +/- {2:.3f}\".format(i, np.mean(cv_acc), np.std(cv_acc)))\n",
    "        cv_auc = cross_val_score(clf, X, Y , cv=kf, scoring='roc_auc')\n",
    "        cv_prec = cross_val_score(clf, X, Y, cv=kf2, scoring='precision')\n",
    "        print(\"AUC for {0} is: {1:.3f} +/- {2:.3f}\".format(i, np.mean(cv_auc), np.std(cv_auc)))\n",
    "        print(\"Precision for {0} is: {1:.3f} +/- {2:.3f}\".format(i, np.mean(cv_prec), np.std(cv_prec)))"
   ]
  },
  {
   "cell_type": "code",
   "execution_count": 46,
   "metadata": {},
   "outputs": [
    {
     "name": "stdout",
     "output_type": "stream",
     "text": [
      "---------------------------\n",
      "Time for CART to train is : 0.09816527366638184\n",
      "Accuracy for CART is: 0.709 +/- 0.030\n",
      "AUC for CART is: 0.641 +/- 0.038\n",
      "Precision for CART is: 0.793 +/- 0.023\n",
      "---------------------------\n",
      "Time for ID3 to train is : 0.10968899726867676\n",
      "Accuracy for ID3 is: 0.704 +/- 0.034\n",
      "AUC for ID3 is: 0.629 +/- 0.036\n",
      "Precision for ID3 is: 0.788 +/- 0.019\n",
      "---------------------------\n",
      "Time for DSTUMP to train is : 0.016617536544799805\n",
      "Accuracy for DSTUMP is: 0.721 +/- 0.028\n",
      "AUC for DSTUMP is: 0.617 +/- 0.034\n",
      "Precision for DSTUMP is: 0.739 +/- 0.036\n",
      "---------------------------\n",
      "Time for MLP to train is : 11.706866264343262\n",
      "Accuracy for MLP is: 0.792 +/- 0.019\n",
      "AUC for MLP is: 0.838 +/- 0.017\n",
      "Precision for MLP is: 0.838 +/- 0.025\n",
      "---------------------------\n",
      "Time for KNN to train is : 0.19351649284362793\n",
      "Accuracy for KNN is: 0.764 +/- 0.020\n",
      "AUC for KNN is: 0.778 +/- 0.015\n",
      "Precision for KNN is: 0.803 +/- 0.019\n",
      "---------------------------\n",
      "Time for NB to train is : 0.02880120277404785\n",
      "Accuracy for NB is: 0.757 +/- 0.030\n",
      "AUC for NB is: 0.783 +/- 0.031\n",
      "Precision for NB is: 0.815 +/- 0.022\n",
      "---------------------------\n",
      "Time for BAGGING_NB to train is : 1.09141206741333\n",
      "Accuracy for BAGGING_NB is: 0.759 +/- 0.030\n",
      "AUC for BAGGING_NB is: 0.792 +/- 0.031\n",
      "Precision for BAGGING_NB is: 0.815 +/- 0.023\n",
      "---------------------------\n",
      "Time for BAGGING_KNN to train is : 6.590559482574463\n",
      "Accuracy for BAGGING_KNN is: 0.769 +/- 0.022\n",
      "AUC for BAGGING_KNN is: 0.785 +/- 0.014\n",
      "Precision for BAGGING_KNN is: 0.803 +/- 0.022\n",
      "---------------------------\n",
      "Time for BOOSTING to train is : 1.0472064018249512\n",
      "Accuracy for BOOSTING is: 0.777 +/- 0.031\n",
      "AUC for BOOSTING is: 0.818 +/- 0.030\n",
      "Precision for BOOSTING is: 0.822 +/- 0.022\n",
      "---------------------------\n",
      "Time for RF to train is : 2.3387792110443115\n",
      "Accuracy for RF is: 0.771 +/- 0.015\n",
      "AUC for RF is: 0.813 +/- 0.022\n",
      "Precision for RF is: 0.808 +/- 0.022\n"
     ]
    }
   ],
   "source": [
    "run_classifiers(Xtrain_norm, Ytrain, clfs)"
   ]
  },
  {
   "cell_type": "raw",
   "metadata": {},
   "source": [
    "Dans ce cas, le MLP donne la meilleure accuracy (0.792) et la meilleure précision (0.838) , mais il prend beaucoup plus de temps que les autres. Le Boosting donne de très bon résultats ( Accuracy :0.777 et Precision : 0.822 ), en plus de prendre beaucoup moins de temps."
   ]
  },
  {
   "cell_type": "markdown",
   "metadata": {},
   "source": [
    "# Apprentissage supervisé : données hétérogènes"
   ]
  },
  {
   "cell_type": "markdown",
   "metadata": {},
   "source": [
    "#### Chargement des données et préparation"
   ]
  },
  {
   "cell_type": "code",
   "execution_count": 49,
   "metadata": {},
   "outputs": [],
   "source": [
    "credit2=pd.read_csv('./datas/credit.data',sep=\"\\t\",header=0).to_numpy()"
   ]
  },
  {
   "cell_type": "code",
   "execution_count": 50,
   "metadata": {},
   "outputs": [],
   "source": [
    "X2_Brut = credit2[:,:15]\n",
    "Y2_Brut = credit2[:, 15:]"
   ]
  },
  {
   "cell_type": "code",
   "execution_count": 51,
   "metadata": {},
   "outputs": [],
   "source": [
    "X2_numeric_train = X2_Brut[:,[1,2,7,10,13,14]]\n",
    "X2_numeric_with_nan = np.where(X2_numeric_train=='?', np.nan, X2_numeric_train)"
   ]
  },
  {
   "cell_type": "code",
   "execution_count": 52,
   "metadata": {},
   "outputs": [],
   "source": [
    "X2_Train = X2_numeric_with_nan.astype(float)\n",
    "index_without_nan = ~np.isnan(X2_Train).any(axis=1)\n",
    "X2_Train = X2_Train[index_without_nan]\n",
    "Y2_Train = Y2_Brut[index_without_nan]"
   ]
  },
  {
   "cell_type": "code",
   "execution_count": 53,
   "metadata": {},
   "outputs": [
    {
     "name": "stdout",
     "output_type": "stream",
     "text": [
      "(665, 6)\n",
      "(665, 1)\n",
      "(array([665]), array(['+', '-'], dtype='<U1'))\n"
     ]
    }
   ],
   "source": [
    "print(X2_Train.shape)\n",
    "print(Y2_Train.shape)\n",
    "print(np.histogram(Y2_Train, bins=['+', '-']))"
   ]
  },
  {
   "cell_type": "code",
   "execution_count": 54,
   "metadata": {},
   "outputs": [
    {
     "data": {
      "text/plain": [
       "{'+': 298, '-': 367}"
      ]
     },
     "execution_count": 54,
     "metadata": {},
     "output_type": "execute_result"
    }
   ],
   "source": [
    "unique, counts = np.unique(Y2_Train, return_counts=True)\n",
    "dict(zip(unique, counts))"
   ]
  },
  {
   "cell_type": "code",
   "execution_count": 55,
   "metadata": {},
   "outputs": [],
   "source": [
    "Y2_Train = np.where(Y2_Train=='+', 1, 0)"
   ]
  },
  {
   "cell_type": "code",
   "execution_count": 56,
   "metadata": {},
   "outputs": [
    {
     "name": "stdout",
     "output_type": "stream",
     "text": [
      "---------------------------\n",
      "Time for CART to train is : 0.03658413887023926\n",
      "Accuracy for CART is: 0.716 +/- 0.058\n",
      "AUC for CART is: 0.717 +/- 0.049\n",
      "Precision for CART is: 0.656 +/- 0.040\n",
      "---------------------------\n",
      "Time for ID3 to train is : 0.03465867042541504\n",
      "Accuracy for ID3 is: 0.702 +/- 0.055\n",
      "AUC for ID3 is: 0.704 +/- 0.049\n",
      "Precision for ID3 is: 0.677 +/- 0.042\n",
      "---------------------------\n",
      "Time for DSTUMP to train is : 0.012306928634643555\n",
      "Accuracy for DSTUMP is: 0.744 +/- 0.054\n",
      "AUC for DSTUMP is: 0.723 +/- 0.035\n",
      "Precision for DSTUMP is: 0.866 +/- 0.049\n",
      "---------------------------\n",
      "Time for MLP to train is : 1.3405144214630127\n",
      "Accuracy for MLP is: 0.661 +/- 0.080\n",
      "AUC for MLP is: 0.703 +/- 0.089\n",
      "Precision for MLP is: 0.716 +/- 0.073\n",
      "---------------------------\n",
      "Time for KNN to train is : 0.018004655838012695\n",
      "Accuracy for KNN is: 0.687 +/- 0.045\n",
      "AUC for KNN is: 0.735 +/- 0.056\n",
      "Precision for KNN is: 0.736 +/- 0.070\n",
      "---------------------------\n",
      "Time for NB to train is : 0.013613462448120117\n",
      "Accuracy for NB is: 0.714 +/- 0.058\n",
      "AUC for NB is: 0.793 +/- 0.057\n",
      "Precision for NB is: 0.846 +/- 0.089\n",
      "---------------------------\n",
      "Time for BAGGING_NB to train is : 0.7463548183441162\n",
      "Accuracy for BAGGING_NB is: 0.720 +/- 0.063\n",
      "AUC for BAGGING_NB is: 0.800 +/- 0.058\n",
      "Precision for BAGGING_NB is: 0.830 +/- 0.075\n",
      "---------------------------\n",
      "Time for BAGGING_KNN to train is : 1.3705899715423584\n",
      "Accuracy for BAGGING_KNN is: 0.687 +/- 0.040\n",
      "AUC for BAGGING_KNN is: 0.738 +/- 0.048\n",
      "Precision for BAGGING_KNN is: 0.740 +/- 0.064\n",
      "---------------------------\n",
      "Time for BOOSTING to train is : 0.8848090171813965\n",
      "Accuracy for BOOSTING is: 0.788 +/- 0.053\n",
      "AUC for BOOSTING is: 0.848 +/- 0.051\n",
      "Precision for BOOSTING is: 0.785 +/- 0.042\n",
      "---------------------------\n",
      "Time for RF to train is : 1.3683204650878906\n",
      "Accuracy for RF is: 0.771 +/- 0.052\n",
      "AUC for RF is: 0.840 +/- 0.050\n",
      "Precision for RF is: 0.786 +/- 0.040\n"
     ]
    }
   ],
   "source": [
    "run_classifiers(X2_Train, Y2_Train, clfs)"
   ]
  },
  {
   "cell_type": "raw",
   "metadata": {},
   "source": [
    "Dans ce cas, le Random Forest donne les meilleures résultats que ça soit pour la précision (0.786) ou l'Accuracy (0.786)."
   ]
  },
  {
   "cell_type": "markdown",
   "metadata": {},
   "source": [
    "### Normalisation des variables continues"
   ]
  },
  {
   "cell_type": "code",
   "execution_count": 77,
   "metadata": {},
   "outputs": [],
   "source": [
    "Snorm=StandardScaler()\n",
    "Snorm.fit(X2_Train)\n",
    "X2_Train_norm=Snorm.transform(X2_Train)"
   ]
  },
  {
   "cell_type": "code",
   "execution_count": 78,
   "metadata": {},
   "outputs": [
    {
     "name": "stdout",
     "output_type": "stream",
     "text": [
      "---------------------------\n",
      "Time for CART to train is : 0.03393959999084473\n",
      "Accuracy for CART is: 0.713 +/- 0.057\n",
      "AUC for CART is: 0.713 +/- 0.049\n",
      "Precision for CART is: 0.655 +/- 0.038\n",
      "---------------------------\n",
      "Time for ID3 to train is : 0.04208564758300781\n",
      "Accuracy for ID3 is: 0.702 +/- 0.058\n",
      "AUC for ID3 is: 0.703 +/- 0.052\n",
      "Precision for ID3 is: 0.677 +/- 0.042\n",
      "---------------------------\n",
      "Time for DSTUMP to train is : 0.014469146728515625\n",
      "Accuracy for DSTUMP is: 0.744 +/- 0.054\n",
      "AUC for DSTUMP is: 0.723 +/- 0.035\n",
      "Precision for DSTUMP is: 0.866 +/- 0.049\n",
      "---------------------------\n",
      "Time for MLP to train is : 5.253662347793579\n",
      "Accuracy for MLP is: 0.777 +/- 0.053\n",
      "AUC for MLP is: 0.838 +/- 0.045\n",
      "Precision for MLP is: 0.814 +/- 0.058\n",
      "---------------------------\n",
      "Time for KNN to train is : 0.02859807014465332\n",
      "Accuracy for KNN is: 0.744 +/- 0.046\n",
      "AUC for KNN is: 0.828 +/- 0.040\n",
      "Precision for KNN is: 0.813 +/- 0.026\n",
      "---------------------------\n",
      "Time for NB to train is : 0.016204357147216797\n",
      "Accuracy for NB is: 0.714 +/- 0.058\n",
      "AUC for NB is: 0.793 +/- 0.057\n",
      "Precision for NB is: 0.846 +/- 0.089\n",
      "---------------------------\n",
      "Time for BAGGING_NB to train is : 0.7910792827606201\n",
      "Accuracy for BAGGING_NB is: 0.720 +/- 0.063\n",
      "AUC for BAGGING_NB is: 0.800 +/- 0.058\n",
      "Precision for BAGGING_NB is: 0.830 +/- 0.075\n",
      "---------------------------\n",
      "Time for BAGGING_KNN to train is : 1.2333590984344482\n",
      "Accuracy for BAGGING_KNN is: 0.749 +/- 0.050\n",
      "AUC for BAGGING_KNN is: 0.828 +/- 0.042\n",
      "Precision for BAGGING_KNN is: 0.814 +/- 0.032\n",
      "---------------------------\n",
      "Time for BOOSTING to train is : 0.9309902191162109\n",
      "Accuracy for BOOSTING is: 0.591 +/- 0.097\n",
      "AUC for BOOSTING is: 0.610 +/- 0.141\n",
      "Precision for BOOSTING is: 0.558 +/- 0.060\n",
      "---------------------------\n",
      "Time for RF to train is : 1.6721067428588867\n",
      "Accuracy for RF is: 0.770 +/- 0.052\n",
      "AUC for RF is: 0.841 +/- 0.050\n",
      "Precision for RF is: 0.784 +/- 0.042\n"
     ]
    }
   ],
   "source": [
    "run_classifiers(X2_Train_norm, Y2_Train, clfs)"
   ]
  },
  {
   "cell_type": "raw",
   "metadata": {},
   "source": [
    "On s'apperçois que le KNN et le MLP ont fortement augmentés les resultats (KNN est passé de 0.687 d'accuracy à 0.744)."
   ]
  },
  {
   "cell_type": "markdown",
   "metadata": {},
   "source": [
    "#### Traitement de données manquantes "
   ]
  },
  {
   "cell_type": "code",
   "execution_count": 148,
   "metadata": {},
   "outputs": [],
   "source": [
    "col_cat= np.array([0,3,4,5,6,8,9,11,12])"
   ]
  },
  {
   "cell_type": "code",
   "execution_count": 133,
   "metadata": {},
   "outputs": [],
   "source": [
    "X_cat = np.copy(X2_Brut[:, col_cat])\n",
    "\n",
    "for col_id in range(len(col_cat)):\n",
    "    unique_val, val_idx = np.unique(X_cat[:, col_id], return_inverse=True)\n",
    "    X_cat[:, col_id] = val_idx"
   ]
  },
  {
   "cell_type": "code",
   "execution_count": 139,
   "metadata": {},
   "outputs": [],
   "source": [
    "from sklearn.impute import SimpleImputer "
   ]
  },
  {
   "cell_type": "code",
   "execution_count": 145,
   "metadata": {},
   "outputs": [],
   "source": [
    "imp_cat = SimpleImputer(missing_values=0, strategy='most_frequent')\n",
    "X_cat[:,range(5)] = imp_cat.fit_transform(X_cat[:,range(5)]) "
   ]
  },
  {
   "cell_type": "code",
   "execution_count": 183,
   "metadata": {},
   "outputs": [],
   "source": [
    "col_num= np.array([1,2,7,10,13,14])\n",
    "X_num = np.copy(X2_Brut[:, col_num])\n",
    "X_num[X_num == '?'] = np.nan\n",
    "X_num = X_num.astype(float)\n",
    "imp_num = SimpleImputer(missing_values=np.nan, strategy='mean')\n",
    "X_num = imp_num.fit_transform(X_num)"
   ]
  },
  {
   "cell_type": "code",
   "execution_count": 184,
   "metadata": {},
   "outputs": [],
   "source": [
    "from sklearn.preprocessing import OneHotEncoder"
   ]
  },
  {
   "cell_type": "code",
   "execution_count": 185,
   "metadata": {},
   "outputs": [],
   "source": [
    "X_cat_bin = OneHotEncoder().fit_transform(X_cat).toarray()"
   ]
  },
  {
   "cell_type": "code",
   "execution_count": 188,
   "metadata": {},
   "outputs": [],
   "source": [
    "Snorm_num=StandardScaler()\n",
    "Snorm_num.fit(X_num)\n",
    "X2_num_norm=Snorm.transform(X_num)"
   ]
  },
  {
   "cell_type": "code",
   "execution_count": 189,
   "metadata": {},
   "outputs": [
    {
     "name": "stdout",
     "output_type": "stream",
     "text": [
      "---------------------------\n",
      "Time for CART to train is : 0.03948616981506348\n",
      "Accuracy for CART is: 0.713 +/- 0.057\n",
      "AUC for CART is: 0.713 +/- 0.049\n",
      "Precision for CART is: 0.655 +/- 0.038\n",
      "---------------------------\n",
      "Time for ID3 to train is : 0.04801678657531738\n",
      "Accuracy for ID3 is: 0.702 +/- 0.058\n",
      "AUC for ID3 is: 0.703 +/- 0.052\n",
      "Precision for ID3 is: 0.677 +/- 0.042\n",
      "---------------------------\n",
      "Time for DSTUMP to train is : 0.011776208877563477\n",
      "Accuracy for DSTUMP is: 0.744 +/- 0.054\n",
      "AUC for DSTUMP is: 0.723 +/- 0.035\n",
      "Precision for DSTUMP is: 0.866 +/- 0.049\n",
      "---------------------------\n",
      "Time for MLP to train is : 3.9320156574249268\n",
      "Accuracy for MLP is: 0.777 +/- 0.053\n",
      "AUC for MLP is: 0.838 +/- 0.045\n",
      "Precision for MLP is: 0.814 +/- 0.058\n",
      "---------------------------\n",
      "Time for KNN to train is : 0.019220352172851562\n",
      "Accuracy for KNN is: 0.744 +/- 0.046\n",
      "AUC for KNN is: 0.828 +/- 0.040\n",
      "Precision for KNN is: 0.813 +/- 0.026\n",
      "---------------------------\n",
      "Time for NB to train is : 0.012378692626953125\n",
      "Accuracy for NB is: 0.714 +/- 0.058\n",
      "AUC for NB is: 0.793 +/- 0.057\n",
      "Precision for NB is: 0.846 +/- 0.089\n",
      "---------------------------\n",
      "Time for BAGGING_NB to train is : 0.7310061454772949\n",
      "Accuracy for BAGGING_NB is: 0.720 +/- 0.063\n",
      "AUC for BAGGING_NB is: 0.800 +/- 0.058\n",
      "Precision for BAGGING_NB is: 0.830 +/- 0.075\n",
      "---------------------------\n",
      "Time for BAGGING_KNN to train is : 1.745023488998413\n",
      "Accuracy for BAGGING_KNN is: 0.749 +/- 0.050\n",
      "AUC for BAGGING_KNN is: 0.828 +/- 0.042\n",
      "Precision for BAGGING_KNN is: 0.814 +/- 0.032\n",
      "---------------------------\n",
      "Time for BOOSTING to train is : 0.8287703990936279\n",
      "Accuracy for BOOSTING is: 0.591 +/- 0.097\n",
      "AUC for BOOSTING is: 0.610 +/- 0.141\n",
      "Precision for BOOSTING is: 0.558 +/- 0.060\n",
      "---------------------------\n",
      "Time for RF to train is : 1.5603020191192627\n",
      "Accuracy for RF is: 0.770 +/- 0.052\n",
      "AUC for RF is: 0.841 +/- 0.050\n",
      "Precision for RF is: 0.784 +/- 0.042\n"
     ]
    }
   ],
   "source": [
    "X2_train_num_cat= np.concatenate((X_cat_bin, X2_num_norm), axis=1)\n",
    "run_classifiers(X2_Train_norm, Y2_Train, clfs)"
   ]
  },
  {
   "cell_type": "markdown",
   "metadata": {},
   "source": [
    "## Text Minig"
   ]
  },
  {
   "cell_type": "code",
   "execution_count": 17,
   "metadata": {},
   "outputs": [],
   "source": [
    "from sklearn.feature_extraction.text import CountVectorizer"
   ]
  },
  {
   "cell_type": "code",
   "execution_count": 18,
   "metadata": {},
   "outputs": [],
   "source": [
    "SMS=pd.read_csv('./datas/SMSSpamCollection.data',sep=\"\\t\",header=0).to_numpy()"
   ]
  },
  {
   "cell_type": "code",
   "execution_count": 19,
   "metadata": {},
   "outputs": [],
   "source": [
    "Xtrain_sms = SMS[:,1].astype(str)\n",
    "Ytrain_sms = SMS[:,0]\n",
    "Ytrain_sms = np.where(Ytrain_sms=='spam', 1, 0)"
   ]
  },
  {
   "cell_type": "markdown",
   "metadata": {},
   "source": [
    "### CountVectorizer"
   ]
  },
  {
   "cell_type": "code",
   "execution_count": 20,
   "metadata": {},
   "outputs": [],
   "source": [
    "vectorizer = CountVectorizer(max_features=300,stop_words='english')\n",
    "matrix = vectorizer.fit_transform(Xtrain_sms)"
   ]
  },
  {
   "cell_type": "code",
   "execution_count": 21,
   "metadata": {},
   "outputs": [],
   "source": [
    "# co-occurance matrix\n",
    "matrixco_occurence = (matrix.T * matrix)\n",
    "matrixco_occurence.setdiag(0)"
   ]
  },
  {
   "cell_type": "code",
   "execution_count": 22,
   "metadata": {},
   "outputs": [],
   "source": [
    "Xtrain_freq = matrix"
   ]
  },
  {
   "cell_type": "code",
   "execution_count": 67,
   "metadata": {
    "scrolled": true
   },
   "outputs": [
    {
     "name": "stdout",
     "output_type": "stream",
     "text": [
      "---------------------------\n",
      "Time for CART to train is : 0.33722639083862305\n",
      "Accuracy for CART is: 0.966 +/- 0.008\n",
      "AUC for CART is: 0.937 +/- 0.021\n",
      "Precision for CART is: 0.871 +/- 0.014\n",
      "---------------------------\n",
      "Time for ID3 to train is : 0.347275972366333\n",
      "Accuracy for ID3 is: 0.964 +/- 0.009\n",
      "AUC for ID3 is: 0.927 +/- 0.023\n",
      "Precision for ID3 is: 0.883 +/- 0.021\n",
      "---------------------------\n",
      "Time for DSTUMP to train is : 0.025019407272338867\n",
      "Accuracy for DSTUMP is: 0.891 +/- 0.013\n",
      "AUC for DSTUMP is: 0.600 +/- 0.018\n",
      "Precision for DSTUMP is: 0.916 +/- 0.060\n",
      "---------------------------\n",
      "Time for MLP to train is : 37.55389738082886\n",
      "Accuracy for MLP is: 0.977 +/- 0.007\n",
      "AUC for MLP is: 0.974 +/- 0.012\n",
      "Precision for MLP is: 0.948 +/- 0.009\n",
      "---------------------------\n",
      "Time for KNN to train is : 0.6253843307495117\n",
      "Accuracy for KNN is: 0.950 +/- 0.010\n",
      "AUC for KNN is: 0.938 +/- 0.019\n",
      "Precision for KNN is: 0.993 +/- 0.006\n",
      "---------------------------\n",
      "Time for NB to train is : 0.017018795013427734\n",
      "Accuracy for NB is: nan +/- nan\n",
      "AUC for NB is: nan +/- nan\n",
      "Precision for NB is: nan +/- nan\n",
      "---------------------------\n",
      "Time for BAGGING to train is : 14.960566997528076\n",
      "Accuracy for BAGGING is: 0.968 +/- 0.008\n",
      "AUC for BAGGING is: 0.974 +/- 0.011\n",
      "Precision for BAGGING is: 0.881 +/- 0.005\n",
      "---------------------------\n",
      "Time for BAGGING_KNN to train is : 29.2811598777771\n",
      "Accuracy for BAGGING_KNN is: 0.950 +/- 0.009\n",
      "AUC for BAGGING_KNN is: 0.951 +/- 0.013\n",
      "Precision for BAGGING_KNN is: 0.989 +/- 0.012\n",
      "---------------------------\n",
      "Time for BOOSTING to train is : 1.7335999011993408\n",
      "Accuracy for BOOSTING is: 0.973 +/- 0.009\n",
      "AUC for BOOSTING is: 0.966 +/- 0.014\n",
      "Precision for BOOSTING is: 0.935 +/- 0.016\n",
      "---------------------------\n",
      "Time for RF to train is : 6.824058771133423\n",
      "Accuracy for RF is: 0.976 +/- 0.008\n",
      "AUC for RF is: 0.980 +/- 0.010\n",
      "Precision for RF is: 0.931 +/- 0.023\n"
     ]
    }
   ],
   "source": [
    "run_classifiers(Xtrain_freq, Ytrain_sms, clfs)"
   ]
  },
  {
   "cell_type": "raw",
   "metadata": {},
   "source": [
    "Dans ce cas le Random forrest offre la meilleure accuracy (0.976) et le KNN offre la meilleure précision (0.993). Il serait plus pertinent d'utiliser KNN car dans notre on doit minimiser les faux positifs et donc maximisé la précision."
   ]
  },
  {
   "cell_type": "code",
   "execution_count": 23,
   "metadata": {},
   "outputs": [],
   "source": [
    "from sklearn.feature_extraction.text import TfidfTransformer"
   ]
  },
  {
   "cell_type": "markdown",
   "metadata": {},
   "source": [
    "### Tf–idf term weighting"
   ]
  },
  {
   "cell_type": "code",
   "execution_count": 24,
   "metadata": {
    "scrolled": false
   },
   "outputs": [],
   "source": [
    "tfidf = TfidfTransformer()\n",
    "X_tfidf = tfidf.fit_transform(Xtrain_freq)\n",
    "#run_classifiers(X_tfidf, Ytrain_sms, clfs)"
   ]
  },
  {
   "cell_type": "markdown",
   "metadata": {},
   "source": [
    "### TruncatedSVD"
   ]
  },
  {
   "cell_type": "code",
   "execution_count": 25,
   "metadata": {},
   "outputs": [],
   "source": [
    "from sklearn.decomposition import TruncatedSVD\n",
    "svd = TruncatedSVD(n_components=30) \n",
    "X_train_svd = svd.fit_transform(X_tfidf)"
   ]
  },
  {
   "cell_type": "code",
   "execution_count": 26,
   "metadata": {},
   "outputs": [
    {
     "name": "stdout",
     "output_type": "stream",
     "text": [
      "30\n"
     ]
    }
   ],
   "source": [
    "print(len(X_train_svd[0]))"
   ]
  },
  {
   "cell_type": "code",
   "execution_count": 72,
   "metadata": {},
   "outputs": [
    {
     "name": "stdout",
     "output_type": "stream",
     "text": [
      "---------------------------\n",
      "Time for CART to train is : 1.0064318180084229\n",
      "Accuracy for CART is: 0.954 +/- 0.009\n",
      "AUC for CART is: 0.902 +/- 0.019\n",
      "Precision for CART is: 0.846 +/- 0.035\n",
      "---------------------------\n",
      "Time for ID3 to train is : 1.1352291107177734\n",
      "Accuracy for ID3 is: 0.961 +/- 0.006\n",
      "AUC for ID3 is: 0.916 +/- 0.014\n",
      "Precision for ID3 is: 0.836 +/- 0.023\n",
      "---------------------------\n",
      "Time for DSTUMP to train is : 0.13003945350646973\n",
      "Accuracy for DSTUMP is: 0.868 +/- 0.012\n",
      "AUC for DSTUMP is: 0.836 +/- 0.029\n",
      "Precision for DSTUMP is: 0.108 +/- 0.216\n",
      "---------------------------\n",
      "Time for MLP to train is : 42.16030430793762\n",
      "Accuracy for MLP is: 0.971 +/- 0.005\n",
      "AUC for MLP is: 0.979 +/- 0.009\n",
      "Precision for MLP is: 0.898 +/- 0.021\n",
      "---------------------------\n",
      "Time for KNN to train is : 1.163815975189209\n",
      "Accuracy for KNN is: 0.971 +/- 0.005\n",
      "AUC for KNN is: 0.971 +/- 0.013\n",
      "Precision for KNN is: 0.935 +/- 0.019\n",
      "---------------------------\n",
      "Time for NB to train is : 0.03168845176696777\n",
      "Accuracy for NB is: 0.656 +/- 0.016\n",
      "AUC for NB is: 0.902 +/- 0.027\n",
      "Precision for NB is: 0.267 +/- 0.019\n",
      "---------------------------\n",
      "Time for BAGGING to train is : 43.089882612228394\n",
      "Accuracy for BAGGING is: 0.973 +/- 0.009\n",
      "AUC for BAGGING is: 0.972 +/- 0.010\n",
      "Precision for BAGGING is: 0.932 +/- 0.015\n",
      "---------------------------\n",
      "Time for BAGGING_KNN to train is : 53.112035274505615\n",
      "Accuracy for BAGGING_KNN is: 0.971 +/- 0.005\n",
      "AUC for BAGGING_KNN is: 0.973 +/- 0.013\n",
      "Precision for BAGGING_KNN is: 0.934 +/- 0.015\n",
      "---------------------------\n",
      "Time for BOOSTING to train is : 8.393135070800781\n",
      "Accuracy for BOOSTING is: 0.960 +/- 0.007\n",
      "AUC for BOOSTING is: 0.972 +/- 0.010\n",
      "Precision for BOOSTING is: 0.864 +/- 0.019\n",
      "---------------------------\n",
      "Time for RF to train is : 12.372380495071411\n",
      "Accuracy for RF is: 0.974 +/- 0.007\n",
      "AUC for RF is: 0.976 +/- 0.012\n",
      "Precision for RF is: 0.949 +/- 0.018\n"
     ]
    }
   ],
   "source": [
    "run_classifiers(X_train_svd, Ytrain_sms, clfs)"
   ]
  },
  {
   "cell_type": "raw",
   "metadata": {},
   "source": [
    "Dans ce cas le BAGGING offre la meilleure accuracy (0.973) et le KNN offre la meilleure précision (0.935). Il serait plus pertinent d'utiliser KNN car dans notre cas on doit minimiser les faux positifs et donc maximisé la précision. De plus KNN a également une très bonne accuracy (0.971) qui n'est pas significativement inférieure, et il s'execute en un temps plus rapide."
   ]
  },
  {
   "cell_type": "code",
   "execution_count": 32,
   "metadata": {},
   "outputs": [],
   "source": [
    "pipe_txtmining= Pipeline([('vectorizer', CountVectorizer(min_df = 5, stop_words='english')), ('tfidf', TfidfTransformer()),('truncatedSVD', TruncatedSVD(n_components=100))])"
   ]
  },
  {
   "cell_type": "code",
   "execution_count": 75,
   "metadata": {
    "scrolled": true
   },
   "outputs": [
    {
     "name": "stdout",
     "output_type": "stream",
     "text": [
      "---------------------------\n",
      "Time for CART to train is : 5.389954090118408\n",
      "Accuracy for CART is: 0.959 +/- 0.011\n",
      "AUC for CART is: 0.918 +/- 0.016\n",
      "Precision for CART is: 0.821 +/- 0.017\n",
      "---------------------------\n",
      "Time for ID3 to train is : 6.998090744018555\n",
      "Accuracy for ID3 is: 0.958 +/- 0.008\n",
      "AUC for ID3 is: 0.913 +/- 0.014\n",
      "Precision for ID3 is: 0.843 +/- 0.035\n",
      "---------------------------\n",
      "Time for DSTUMP to train is : 0.5285060405731201\n",
      "Accuracy for DSTUMP is: 0.878 +/- 0.017\n",
      "AUC for DSTUMP is: 0.863 +/- 0.022\n",
      "Precision for DSTUMP is: 0.529 +/- 0.030\n",
      "---------------------------\n",
      "Time for MLP to train is : 41.455315828323364\n",
      "Accuracy for MLP is: 0.981 +/- 0.005\n",
      "AUC for MLP is: 0.985 +/- 0.007\n",
      "Precision for MLP is: 0.942 +/- 0.018\n",
      "---------------------------\n",
      "Time for KNN to train is : 3.916295289993286\n",
      "Accuracy for KNN is: 0.974 +/- 0.007\n",
      "AUC for KNN is: 0.965 +/- 0.015\n",
      "Precision for KNN is: 0.970 +/- 0.009\n",
      "---------------------------\n",
      "Time for NB to train is : 0.07295846939086914\n",
      "Accuracy for NB is: 0.754 +/- 0.015\n",
      "AUC for NB is: 0.920 +/- 0.014\n",
      "Precision for NB is: 0.340 +/- 0.019\n",
      "---------------------------\n",
      "Time for BAGGING to train is : 183.03064894676208\n",
      "Accuracy for BAGGING is: 0.974 +/- 0.006\n",
      "AUC for BAGGING is: 0.973 +/- 0.013\n",
      "Precision for BAGGING is: 0.935 +/- 0.017\n",
      "---------------------------\n",
      "Time for BAGGING_KNN to train is : 232.04956102371216\n",
      "Accuracy for BAGGING_KNN is: 0.973 +/- 0.007\n",
      "AUC for BAGGING_KNN is: 0.972 +/- 0.015\n",
      "Precision for BAGGING_KNN is: 0.973 +/- 0.010\n",
      "---------------------------\n",
      "Time for BOOSTING to train is : 25.847636938095093\n",
      "Accuracy for BOOSTING is: 0.971 +/- 0.009\n",
      "AUC for BOOSTING is: 0.979 +/- 0.009\n",
      "Precision for BOOSTING is: 0.904 +/- 0.011\n",
      "---------------------------\n",
      "Time for RF to train is : 27.44623827934265\n",
      "Accuracy for RF is: 0.976 +/- 0.005\n",
      "AUC for RF is: 0.976 +/- 0.011\n",
      "Precision for RF is: 0.967 +/- 0.009\n"
     ]
    }
   ],
   "source": [
    "X_traintxt = pipe_txtmining.fit_transform(Xtrain_sms)\n",
    "run_classifiers(X_traintxt, Ytrain_sms, clfs)"
   ]
  },
  {
   "cell_type": "raw",
   "metadata": {},
   "source": [
    "Dans ce cas le MLP offre la meilleure accuracy (0.981) et le BaggingKNN offre la meilleure précision (0.973). Il serait donc plus pertinent d'utiliser le BaggingKNN."
   ]
  },
  {
   "cell_type": "code",
   "execution_count": 27,
   "metadata": {},
   "outputs": [],
   "source": [
    "YELP =pd.read_csv('./datas/yelp-text-by-stars.csv',sep=\";\",header=0,encoding = \"ISO-8859-1\").to_numpy()"
   ]
  },
  {
   "cell_type": "code",
   "execution_count": 28,
   "metadata": {},
   "outputs": [],
   "source": [
    "Xtrain_yelp = YELP[:,1].astype(str)\n",
    "Ytrain_yelp = YELP[:,0].astype(int)\n",
    "from sklearn import preprocessing\n",
    "Ytrain_yelp = np.where(Ytrain_yelp >= 4, 1, 0)"
   ]
  },
  {
   "cell_type": "code",
   "execution_count": 33,
   "metadata": {},
   "outputs": [],
   "source": [
    "X_train_yelp = pipe_txtmining.fit_transform(Xtrain_yelp)"
   ]
  },
  {
   "cell_type": "code",
   "execution_count": 34,
   "metadata": {},
   "outputs": [],
   "source": [
    "clfs2 = {\n",
    " 'CART': DecisionTreeClassifier(criterion=\"gini\",random_state=1),\n",
    " 'KNN' : KNeighborsClassifier(algorithm = 'ball_tree',n_neighbors = 11, weights = 'distance'),\n",
    "}"
   ]
  },
  {
   "cell_type": "code",
   "execution_count": null,
   "metadata": {},
   "outputs": [
    {
     "name": "stdout",
     "output_type": "stream",
     "text": [
      "---------------------------\n",
      "Time for CART to train is : 68.07507848739624\n",
      "Accuracy for CART is: 0.715 +/- 0.007\n",
      "AUC for CART is: 0.686 +/- 0.006\n",
      "Precision for CART is: 0.787 +/- 0.003\n",
      "---------------------------\n",
      "Time for KNN to train is : 458.53161239624023\n",
      "Accuracy for KNN is: 0.766 +/- 0.007\n"
     ]
    }
   ],
   "source": [
    "run_classifiers(X_train_yelp, Ytrain_yelp, clfs2)"
   ]
  },
  {
   "cell_type": "raw",
   "metadata": {},
   "source": [
    "Ici, nous avons choisi de réduire le nombre d'algorithmes à tester car la complexité est importante. Entre KNN et CART on choisirai donc KNN car il a une meilleure accuracy."
   ]
  }
 ],
 "metadata": {
  "kernelspec": {
   "display_name": "Python 3",
   "language": "python",
   "name": "python3"
  },
  "language_info": {
   "codemirror_mode": {
    "name": "ipython",
    "version": 3
   },
   "file_extension": ".py",
   "mimetype": "text/x-python",
   "name": "python",
   "nbconvert_exporter": "python",
   "pygments_lexer": "ipython3",
   "version": "3.7.9"
  }
 },
 "nbformat": 4,
 "nbformat_minor": 4
}
