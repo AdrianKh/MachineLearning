{
 "cells": [
  {
   "cell_type": "markdown",
   "metadata": {},
   "source": [
    "## SAADALLAH Ahmed & KHELILI Adrian"
   ]
  },
  {
   "cell_type": "code",
   "execution_count": 87,
   "metadata": {},
   "outputs": [],
   "source": [
    "import numpy as np \n",
    "np.set_printoptions(threshold=10000,suppress=True) \n",
    "import pandas as pd\n",
    "import warnings\n",
    "import matplotlib.pyplot as plt \n",
    "warnings.filterwarnings('ignore')"
   ]
  },
  {
   "cell_type": "markdown",
   "metadata": {},
   "source": [
    "# Partie 1"
   ]
  },
  {
   "cell_type": "code",
   "execution_count": 88,
   "metadata": {},
   "outputs": [],
   "source": [
    "credit=pd.read_csv('./datas/credit_scoring.csv',sep=\";\",header=0)"
   ]
  },
  {
   "cell_type": "code",
   "execution_count": 89,
   "metadata": {},
   "outputs": [],
   "source": [
    "credit.head(3)\n",
    "nom_cols = credit.columns"
   ]
  },
  {
   "cell_type": "code",
   "execution_count": 90,
   "metadata": {},
   "outputs": [
    {
     "data": {
      "text/plain": [
       "(4375, 14)"
      ]
     },
     "execution_count": 90,
     "metadata": {},
     "output_type": "execute_result"
    }
   ],
   "source": [
    "credit.shape"
   ]
  },
  {
   "cell_type": "code",
   "execution_count": 91,
   "metadata": {},
   "outputs": [],
   "source": [
    "X=credit.iloc[:,:13].values\n",
    "Y=credit.iloc[:,13].values"
   ]
  },
  {
   "cell_type": "code",
   "execution_count": 92,
   "metadata": {},
   "outputs": [
    {
     "name": "stdout",
     "output_type": "stream",
     "text": [
      "% Bon payeurs : 72.21 % Mauvais payeurs : 27.79\n"
     ]
    }
   ],
   "source": [
    "mp=100*np.sum(Y==0)/len(Y)\n",
    "bp=100*np.sum(Y==1)/len(Y)\n",
    "\n",
    "print(\"% Bon payeurs : {0:.2f} % Mauvais payeurs : {1:.2f}\".format(bp,mp))"
   ]
  },
  {
   "cell_type": "code",
   "execution_count": 93,
   "metadata": {},
   "outputs": [],
   "source": [
    "from sklearn.model_selection import train_test_split\n",
    "from sklearn.tree import DecisionTreeClassifier\n",
    "from sklearn.neighbors import KNeighborsClassifier\n",
    "from sklearn.metrics import confusion_matrix,accuracy_score\n",
    "from sklearn.preprocessing import StandardScaler\n",
    "from sklearn.decomposition import PCA\n",
    "from sklearn.ensemble import BaggingClassifier"
   ]
  },
  {
   "cell_type": "code",
   "execution_count": 94,
   "metadata": {},
   "outputs": [],
   "source": [
    "Xtrain,Xtest,Ytrain,Ytest=train_test_split(X,Y,test_size=0.5,random_state=1)"
   ]
  },
  {
   "cell_type": "markdown",
   "metadata": {},
   "source": [
    "## Lancement des classifieurs"
   ]
  },
  {
   "cell_type": "code",
   "execution_count": 95,
   "metadata": {},
   "outputs": [],
   "source": [
    "def classifieurs(Xtrain,Xtest,Ytrain,Ytest):\n",
    "    DT=DecisionTreeClassifier(criterion='gini',random_state=1) #CART\n",
    "    DT.fit(Xtrain,Ytrain)\n",
    "    YDT=DT.predict(Xtest)\n",
    "\n",
    "    print(\"Arbre de décision : Accuracy = {0:.2f}\".format(accuracy_score(Ytest,YDT)*100))\n",
    "    print(confusion_matrix(Ytest,YDT))\n",
    "\n",
    "    print()\n",
    "\n",
    "    KNN=KNeighborsClassifier(n_neighbors=5) #KNN\n",
    "    KNN.fit(Xtrain,Ytrain)\n",
    "    YKNN=KNN.predict(Xtest)\n",
    "\n",
    "    print(\"KNN : Accuracy = {0:.2f}\".format(accuracy_score(Ytest,YKNN)*100))\n",
    "    print(confusion_matrix(Ytest,YKNN))\n",
    "\n",
    "    print()"
   ]
  },
  {
   "cell_type": "code",
   "execution_count": 96,
   "metadata": {},
   "outputs": [
    {
     "name": "stdout",
     "output_type": "stream",
     "text": [
      "Arbre de décision : Accuracy = 72.71\n",
      "[[ 325  279]\n",
      " [ 318 1266]]\n",
      "\n",
      "KNN : Accuracy = 72.49\n",
      "[[ 189  415]\n",
      " [ 187 1397]]\n",
      "\n"
     ]
    }
   ],
   "source": [
    "classifieurs(Xtrain,Xtest,Ytrain,Ytest)"
   ]
  },
  {
   "cell_type": "markdown",
   "metadata": {},
   "source": [
    "### Normalisation des données"
   ]
  },
  {
   "cell_type": "code",
   "execution_count": 97,
   "metadata": {},
   "outputs": [
    {
     "name": "stdout",
     "output_type": "stream",
     "text": [
      "Arbre de décision : Accuracy = 72.71\n",
      "[[ 322  282]\n",
      " [ 315 1269]]\n",
      "\n",
      "KNN : Accuracy = 75.27\n",
      "[[ 286  318]\n",
      " [ 223 1361]]\n",
      "\n"
     ]
    }
   ],
   "source": [
    "SS=StandardScaler()\n",
    "SS.fit(Xtrain)\n",
    "Xtrain_norm=SS.transform(Xtrain)\n",
    "Xtest_norm=SS.transform(Xtest)\n",
    "\n",
    "classifieurs(Xtrain_norm,Xtest_norm,Ytrain,Ytest)"
   ]
  },
  {
   "cell_type": "markdown",
   "metadata": {},
   "source": [
    "### Ajout des variables"
   ]
  },
  {
   "cell_type": "code",
   "execution_count": 98,
   "metadata": {},
   "outputs": [
    {
     "name": "stdout",
     "output_type": "stream",
     "text": [
      "Arbre de décision : Accuracy = 73.63\n",
      "[[ 351  253]\n",
      " [ 324 1260]]\n",
      "\n",
      "KNN : Accuracy = 75.64\n",
      "[[ 283  321]\n",
      " [ 212 1372]]\n",
      "\n"
     ]
    }
   ],
   "source": [
    "pca=PCA(n_components=3)\n",
    "pca.fit(Xtrain_norm)\n",
    "Xtrain_pca=np.concatenate((Xtrain_norm,pca.transform(Xtrain_norm)),axis=1)\n",
    "Xtest_pca=np.concatenate((Xtest_norm,pca.transform(Xtest_norm)),axis=1)\n",
    "classifieurs(Xtrain_pca,Xtest_pca,Ytrain,Ytest)\n"
   ]
  },
  {
   "cell_type": "code",
   "execution_count": 99,
   "metadata": {},
   "outputs": [
    {
     "name": "stdout",
     "output_type": "stream",
     "text": [
      "Bagging : Accuracy = 78.56\n",
      "[[ 332  272]\n",
      " [ 197 1387]]\n"
     ]
    }
   ],
   "source": [
    "BAG=BaggingClassifier(n_estimators=100,random_state=1) #BAG\n",
    "BAG.fit(Xtrain,Ytrain)\n",
    "YBAG=BAG.predict(Xtest)\n",
    "print(\"Bagging : Accuracy = {0:.2f}\".format(accuracy_score(Ytest,YBAG)*100))\n",
    "print(confusion_matrix(Ytest,YBAG))"
   ]
  },
  {
   "cell_type": "code",
   "execution_count": 100,
   "metadata": {},
   "outputs": [],
   "source": [
    "from sklearn.ensemble import RandomForestClassifier\n",
    "clf = RandomForestClassifier(n_estimators=100)\n",
    "clf.fit(Xtrain_norm, Ytrain)\n",
    "importances=clf.feature_importances_\n",
    "var = [tree.feature_importances_ for tree in clf.estimators_]\n",
    "std = np.std([tree.feature_importances_ for tree in clf.estimators_],axis=0)\n",
    "sorted_idx = np.argsort(importances)[::-1]\n",
    "features =nom_cols"
   ]
  },
  {
   "cell_type": "code",
   "execution_count": 101,
   "metadata": {},
   "outputs": [
    {
     "data": {
      "image/png": "[encoded data removed]",
      "text/plain": [
       "<Figure size 432x288 with 1 Axes>"
      ]
     },
     "metadata": {
      "needs_background": "light"
     },
     "output_type": "display_data"
    }
   ],
   "source": [
    "padding = np.arange(Xtrain_norm.size/len(Xtrain_norm)) + 0.5\n",
    "plt.barh(padding, importances[sorted_idx],xerr=std[sorted_idx], align='center')\n",
    "plt.yticks(padding, features[sorted_idx])\n",
    "plt.xlabel(\"Relative Importance\")\n",
    "plt.title(\"Variable Importance\")\n",
    "plt.show()"
   ]
  },
  {
   "cell_type": "code",
   "execution_count": 102,
   "metadata": {},
   "outputs": [],
   "source": [
    "KNN=KNeighborsClassifier(n_neighbors=5)\n",
    "scores=np.zeros(Xtrain_norm.shape[1]+1)\n",
    "for f in np.arange(0, Xtrain_norm.shape[1]+1):\n",
    "    X1_f = Xtrain_norm[:,sorted_idx[:f+1]]\n",
    "    X2_f = Xtest_norm[:,sorted_idx[:f+1]]\n",
    "    KNN.fit(X1_f,Ytrain)\n",
    "    YKNN=KNN.predict(X2_f)\n",
    "    scores[f]=np.round(accuracy_score(Ytest,YKNN),3)"
   ]
  },
  {
   "cell_type": "code",
   "execution_count": 103,
   "metadata": {},
   "outputs": [
    {
     "data": {
      "image/png": "[encoded data removed]",
      "text/plain": [
       "<Figure size 432x288 with 1 Axes>"
      ]
     },
     "metadata": {
      "needs_background": "light"
     },
     "output_type": "display_data"
    }
   ],
   "source": [
    "plt.plot(scores)\n",
    "plt.xlabel(\"Nombre de Variables\")\n",
    "plt.ylabel(\"Accuracy\")\n",
    "plt.title(\"Evolution de l'accuracy en fonction des variables\")\n",
    "plt.show()"
   ]
  },
  {
   "cell_type": "code",
   "execution_count": 104,
   "metadata": {},
   "outputs": [],
   "source": [
    "# Select the best 8 elements \n",
    "Xtrain_norm_select = Xtrain_norm[:,sorted_idx[:8]] \n",
    "Xtest_norm_select = Xtest_norm[:,sorted_idx[:8]]"
   ]
  },
  {
   "cell_type": "markdown",
   "metadata": {},
   "source": [
    "### Random Forest Model hyperparameters"
   ]
  },
  {
   "cell_type": "code",
   "execution_count": 105,
   "metadata": {},
   "outputs": [],
   "source": [
    "# Number of trees in random forest\n",
    "criterion = [\"gini\", \"entropy\"]\n",
    "# -----\n",
    "max_features = [\"sqrt\",\"log2\"]\n",
    "# Number of features at every split\n",
    "splitter = [\"best\", \"random\"]\n",
    "# Max number of levels\n",
    "max_depth = [None,2,3,4]\n",
    "# Min npumber of samples to split a node \n",
    "min_samples_split=[2,5,7]\n",
    "# Minimum number of samples required at each leaf node\n",
    "min_samples_leaf = [1,3,5]\n",
    "# random_state \n",
    "random_state = [0]"
   ]
  },
  {
   "cell_type": "code",
   "execution_count": 106,
   "metadata": {},
   "outputs": [],
   "source": [
    "param_grid = {\n",
    "    'criterion': criterion,\n",
    "    'splitter':splitter,\n",
    "    'max_depth':max_depth,\n",
    "    'min_samples_split':min_samples_split,\n",
    "    'min_samples_leaf':min_samples_leaf,\n",
    "    'max_features': max_features,\n",
    "    'random_state': random_state\n",
    "}"
   ]
  },
  {
   "cell_type": "code",
   "execution_count": 107,
   "metadata": {},
   "outputs": [],
   "source": [
    "random_Forrest = DecisionTreeClassifier()"
   ]
  },
  {
   "cell_type": "code",
   "execution_count": 108,
   "metadata": {},
   "outputs": [],
   "source": [
    "from sklearn.model_selection import GridSearchCV\n",
    "\n",
    "forrest_tuner= GridSearchCV(estimator = random_Forrest, param_grid= param_grid, cv=10, verbose=2, n_jobs=4)"
   ]
  },
  {
   "cell_type": "code",
   "execution_count": 109,
   "metadata": {
    "scrolled": false
   },
   "outputs": [
    {
     "name": "stdout",
     "output_type": "stream",
     "text": [
      "Fitting 10 folds for each of 288 candidates, totalling 2880 fits\n"
     ]
    },
    {
     "name": "stderr",
     "output_type": "stream",
     "text": [
      "[Parallel(n_jobs=4)]: Using backend LokyBackend with 4 concurrent workers.\n",
      "[Parallel(n_jobs=4)]: Done  56 tasks      | elapsed:    0.6s\n",
      "[Parallel(n_jobs=4)]: Done 2873 out of 2880 | elapsed:    2.1s remaining:    0.0s\n",
      "[Parallel(n_jobs=4)]: Done 2880 out of 2880 | elapsed:    2.1s finished\n"
     ]
    },
    {
     "data": {
      "text/plain": [
       "GridSearchCV(cv=10, estimator=DecisionTreeClassifier(), n_jobs=4,\n",
       "             param_grid={'criterion': ['gini', 'entropy'],\n",
       "                         'max_depth': [None, 2, 3, 4],\n",
       "                         'max_features': ['sqrt', 'log2'],\n",
       "                         'min_samples_leaf': [1, 3, 5],\n",
       "                         'min_samples_split': [2, 5, 7], 'random_state': [0],\n",
       "                         'splitter': ['best', 'random']},\n",
       "             verbose=2)"
      ]
     },
     "execution_count": 109,
     "metadata": {},
     "output_type": "execute_result"
    }
   ],
   "source": [
    "forrest_tuner.fit(Xtrain_norm, Ytrain)"
   ]
  },
  {
   "cell_type": "code",
   "execution_count": 110,
   "metadata": {},
   "outputs": [
    {
     "data": {
      "text/plain": [
       "{'criterion': 'entropy',\n",
       " 'max_depth': 4,\n",
       " 'max_features': 'sqrt',\n",
       " 'min_samples_leaf': 1,\n",
       " 'min_samples_split': 2,\n",
       " 'random_state': 0,\n",
       " 'splitter': 'best'}"
      ]
     },
     "execution_count": 110,
     "metadata": {},
     "output_type": "execute_result"
    }
   ],
   "source": [
    "forrest_tuner.best_params_"
   ]
  },
  {
   "cell_type": "code",
   "execution_count": 111,
   "metadata": {},
   "outputs": [
    {
     "name": "stdout",
     "output_type": "stream",
     "text": [
      "0.7513711151736746\n"
     ]
    }
   ],
   "source": [
    "print(rand_forrest_tuner.score(Xtest_norm,Ytest))"
   ]
  },
  {
   "cell_type": "code",
   "execution_count": 112,
   "metadata": {},
   "outputs": [],
   "source": [
    "# model Knn que nous allons tuner\n",
    "knn = KNeighborsClassifier()"
   ]
  },
  {
   "cell_type": "markdown",
   "metadata": {},
   "source": [
    "### knn hyperparameters"
   ]
  },
  {
   "cell_type": "code",
   "execution_count": 113,
   "metadata": {},
   "outputs": [],
   "source": [
    "# nombre de voisins\n",
    "n_neighbors = [x for x in range(3,12,2)]\n",
    "# puissance minkowski\n",
    "# 1 to get manhattan distance and 2 for ecludien distance\n",
    "p = [1,2] \n",
    "# weights\n",
    "weights = [\"uniform\", \"distance\"]\n",
    "# algorithms\n",
    "algorithms = [\"ball_tree\", \"kd_tree\", \"brute\"]"
   ]
  },
  {
   "cell_type": "code",
   "execution_count": 114,
   "metadata": {},
   "outputs": [],
   "source": [
    "param_grid_KNN = {\n",
    "    'n_neighbors': n_neighbors,\n",
    "    'weights' : weights,\n",
    "    'algorithm' : algorithms\n",
    "}"
   ]
  },
  {
   "cell_type": "code",
   "execution_count": 115,
   "metadata": {},
   "outputs": [],
   "source": [
    "knn_tuner = GridSearchCV(estimator = knn, param_grid= param_grid_KNN, cv=10, verbose=2, n_jobs=4)"
   ]
  },
  {
   "cell_type": "code",
   "execution_count": 116,
   "metadata": {},
   "outputs": [
    {
     "name": "stdout",
     "output_type": "stream",
     "text": [
      "Fitting 10 folds for each of 30 candidates, totalling 300 fits\n"
     ]
    },
    {
     "name": "stderr",
     "output_type": "stream",
     "text": [
      "[Parallel(n_jobs=4)]: Using backend LokyBackend with 4 concurrent workers.\n",
      "[Parallel(n_jobs=4)]: Done 136 tasks      | elapsed:    0.7s\n",
      "[Parallel(n_jobs=4)]: Done 300 out of 300 | elapsed:    1.3s finished\n"
     ]
    },
    {
     "data": {
      "text/plain": [
       "GridSearchCV(cv=10, estimator=KNeighborsClassifier(), n_jobs=4,\n",
       "             param_grid={'algorithm': ['ball_tree', 'kd_tree', 'brute'],\n",
       "                         'n_neighbors': [3, 5, 7, 9, 11],\n",
       "                         'weights': ['uniform', 'distance']},\n",
       "             verbose=2)"
      ]
     },
     "execution_count": 116,
     "metadata": {},
     "output_type": "execute_result"
    }
   ],
   "source": [
    "knn_tuner.fit(Xtrain_norm, Ytrain)"
   ]
  },
  {
   "cell_type": "code",
   "execution_count": 117,
   "metadata": {},
   "outputs": [
    {
     "data": {
      "text/plain": [
       "{'algorithm': 'ball_tree', 'n_neighbors': 11, 'weights': 'distance'}"
      ]
     },
     "execution_count": 117,
     "metadata": {},
     "output_type": "execute_result"
    }
   ],
   "source": [
    "knn_tuner.best_params_"
   ]
  },
  {
   "cell_type": "code",
   "execution_count": 118,
   "metadata": {},
   "outputs": [
    {
     "name": "stdout",
     "output_type": "stream",
     "text": [
      "0.7751371115173674\n"
     ]
    }
   ],
   "source": [
    "print(knn_tuner.score(Xtest_norm,Ytest))"
   ]
  },
  {
   "cell_type": "markdown",
   "metadata": {},
   "source": [
    "### Pipeline"
   ]
  },
  {
   "cell_type": "code",
   "execution_count": 88,
   "metadata": {},
   "outputs": [],
   "source": [
    "from sklearn.pipeline import Pipeline\n",
    "pipe_knn = Pipeline([('norm', StandardScaler()),('ACP', PCA()), ('rf', KNeighborsClassifier(algorithm = 'ball_tree',\n",
    "                                                                                             n_neighbors = 11,\n",
    "                                                                                             weights = 'distance'))])"
   ]
  },
  {
   "cell_type": "code",
   "execution_count": 89,
   "metadata": {},
   "outputs": [
    {
     "data": {
      "text/plain": [
       "array([[-0.73307033,  0.92890366,  0.10845206, ..., -0.91083984,\n",
       "         0.47886504, -0.95560631],\n",
       "       [ 0.8636448 , -1.0765379 , -1.53580903, ...,  0.93938195,\n",
       "        -1.51006842,  0.12383146],\n",
       "       [-0.85589457,  0.92890366,  0.10845206, ..., -1.86730511,\n",
       "         1.82171   ,  0.57271934],\n",
       "       ...,\n",
       "       [ 0.37234784,  0.92890366, -2.35793958, ..., -0.3111228 ,\n",
       "        -2.07286421, -0.54210294],\n",
       "       [-0.97871882,  0.92890366,  0.10845206, ..., -2.0778676 ,\n",
       "         0.10704445,  0.62403578],\n",
       "       [-0.85589457,  0.92890366, -0.71367848, ..., -0.49101513,\n",
       "         0.89687306, -0.84932674]])"
      ]
     },
     "execution_count": 89,
     "metadata": {},
     "output_type": "execute_result"
    }
   ],
   "source": [
    "from sklearn.pipeline import FeatureUnion\n",
    "pipe = Pipeline([('norm', StandardScaler()),('ACP', PCA(n_components=3))])\n",
    "union_norm_pca = FeatureUnion(transformer_list=[('norm',StandardScaler()),('pipe',pipe)])\n",
    "union_norm_pca.fit_transform(Xtrain)"
   ]
  },
  {
   "cell_type": "code",
   "execution_count": 90,
   "metadata": {},
   "outputs": [],
   "source": [
    "\n",
    "pipe_knn_pca = Pipeline([(\"union\",union_norm_pca), ('rf', KNeighborsClassifier(algorithm = 'ball_tree',\n",
    "                                                                                             n_neighbors = 11,\n",
    "                                                                                             weights = 'distance'))])"
   ]
  },
  {
   "cell_type": "code",
   "execution_count": 91,
   "metadata": {},
   "outputs": [
    {
     "data": {
      "text/plain": [
       "0.7751371115173674"
      ]
     },
     "execution_count": 91,
     "metadata": {},
     "output_type": "execute_result"
    }
   ],
   "source": [
    "pipe_knn.fit(Xtrain,Ytrain)\n",
    "pipe_knn.score(Xtest, Ytest)"
   ]
  },
  {
   "cell_type": "code",
   "execution_count": 92,
   "metadata": {},
   "outputs": [
    {
     "data": {
      "text/plain": [
       "0.8920454545454546"
      ]
     },
     "execution_count": 92,
     "metadata": {},
     "output_type": "execute_result"
    }
   ],
   "source": [
    "from sklearn.metrics import recall_score, precision_score\n",
    "Y_P = pipe_knn.predict(Xtest)\n",
    "recall_score(Ytest, Y_P)"
   ]
  },
  {
   "cell_type": "code",
   "execution_count": 93,
   "metadata": {},
   "outputs": [
    {
     "data": {
      "text/plain": [
       "0.8148788927335641"
      ]
     },
     "execution_count": 93,
     "metadata": {},
     "output_type": "execute_result"
    }
   ],
   "source": [
    "precision_score(Ytest, Y_P)"
   ]
  },
  {
   "cell_type": "code",
   "execution_count": 94,
   "metadata": {},
   "outputs": [],
   "source": [
    "import pickle"
   ]
  },
  {
   "cell_type": "code",
   "execution_count": 95,
   "metadata": {},
   "outputs": [],
   "source": [
    "filename = 'models/knn_model.sav'"
   ]
  },
  {
   "cell_type": "code",
   "execution_count": 96,
   "metadata": {},
   "outputs": [],
   "source": [
    "pickle.dump(pipe_knn, open(filename, 'wb'))"
   ]
  },
  {
   "cell_type": "code",
   "execution_count": 97,
   "metadata": {},
   "outputs": [
    {
     "name": "stdout",
     "output_type": "stream",
     "text": [
      "0.7751371115173674\n"
     ]
    }
   ],
   "source": [
    "loaded_model = pickle.load(open(filename, 'rb'))\n",
    "result = loaded_model.score(Xtest, Ytest)\n",
    "print(result)"
   ]
  },
  {
   "cell_type": "markdown",
   "metadata": {},
   "source": [
    "### Comparaison de plusieurs algorithmes d’apprentissage"
   ]
  },
  {
   "cell_type": "code",
   "execution_count": 127,
   "metadata": {},
   "outputs": [],
   "source": [
    "from sklearn.model_selection import KFold, cross_val_score\n",
    "from sklearn.neural_network import MLPClassifier\n",
    "from sklearn.naive_bayes import GaussianNB\n",
    "from sklearn.ensemble import BaggingClassifier, AdaBoostClassifier, RandomForestClassifier\n",
    "import time\n",
    "clfs = {\n",
    " 'CART': DecisionTreeClassifier(criterion=\"gini\",random_state=1),\n",
    " 'ID3' : DecisionTreeClassifier(criterion=\"entropy\",random_state=1),\n",
    " 'DSTUMP' : DecisionTreeClassifier(max_depth=1,random_state=1),\n",
    " 'MLP' : MLPClassifier(hidden_layer_sizes=(20,10), random_state=1), # the best with 0.781 accuracy\n",
    " 'KNN' : KNeighborsClassifier(algorithm = 'ball_tree',n_neighbors = 11, weights = 'distance'),\n",
    " 'NB' : GaussianNB(),\n",
    " 'BAGGING_NB' : BaggingClassifier(base_estimator=GaussianNB(), n_estimators=50, random_state=1), \n",
    " 'BAGGING_KNN' : BaggingClassifier(base_estimator=KNeighborsClassifier(algorithm = 'ball_tree',n_neighbors = 11, weights = 'distance'), n_estimators=50, random_state=1), \n",
    " 'BOOSTING' : AdaBoostClassifier(base_estimator=GaussianNB(), n_estimators=50, random_state=1),\n",
    " 'RF' : RandomForestClassifier(n_estimators=100,criterion='gini',random_state=1)\n",
    "}"
   ]
  },
  {
   "cell_type": "code",
   "execution_count": 134,
   "metadata": {},
   "outputs": [
    {
     "name": "stdout",
     "output_type": "stream",
     "text": [
      "---------------------------\n",
      "Time for CART to train is : 0.10847640037536621\n",
      "Accuracy for CART is: 0.709 +/- 0.030\n",
      "AUC for CART is: 0.641 +/- 0.038\n",
      "Recall for CART is: 0.772 +/- 0.014\n",
      "---------------------------\n",
      "Time for ID3 to train is : 0.11475062370300293\n",
      "Accuracy for ID3 is: 0.704 +/- 0.034\n",
      "AUC for ID3 is: 0.629 +/- 0.036\n",
      "Recall for ID3 is: 0.799 +/- 0.016\n",
      "---------------------------\n",
      "Time for DSTUMP to train is : 0.018887996673583984\n",
      "Accuracy for DSTUMP is: 0.721 +/- 0.028\n",
      "AUC for DSTUMP is: 0.617 +/- 0.034\n",
      "Recall for DSTUMP is: 0.954 +/- 0.058\n",
      "---------------------------\n",
      "Time for MLP to train is : 12.81442928314209\n",
      "Accuracy for MLP is: 0.792 +/- 0.019\n",
      "AUC for MLP is: 0.838 +/- 0.017\n",
      "Recall for MLP is: 0.878 +/- 0.013\n",
      "---------------------------\n",
      "Time for KNN to train is : 0.16072964668273926\n",
      "Accuracy for KNN is: 0.764 +/- 0.020\n",
      "AUC for KNN is: 0.778 +/- 0.015\n",
      "Recall for KNN is: 0.892 +/- 0.019\n",
      "---------------------------\n",
      "Time for NB to train is : 0.018302440643310547\n",
      "Accuracy for NB is: 0.757 +/- 0.030\n",
      "AUC for NB is: 0.783 +/- 0.031\n",
      "Recall for NB is: 0.851 +/- 0.024\n",
      "---------------------------\n",
      "Time for BAGGING_NB to train is : 1.0648469924926758\n",
      "Accuracy for BAGGING_NB is: 0.759 +/- 0.030\n",
      "AUC for BAGGING_NB is: 0.792 +/- 0.031\n",
      "Recall for BAGGING_NB is: 0.851 +/- 0.022\n",
      "---------------------------\n",
      "Time for BAGGING_KNN to train is : 8.061259031295776\n",
      "Accuracy for BAGGING_KNN is: 0.769 +/- 0.022\n",
      "AUC for BAGGING_KNN is: 0.785 +/- 0.014\n",
      "Recall for BAGGING_KNN is: 0.899 +/- 0.016\n",
      "---------------------------\n",
      "Time for BOOSTING to train is : 2.5748300552368164\n",
      "Accuracy for BOOSTING is: 0.589 +/- 0.156\n",
      "AUC for BOOSTING is: 0.645 +/- 0.081\n",
      "Recall for BOOSTING is: 0.491 +/- 0.296\n",
      "---------------------------\n",
      "Time for RF to train is : 3.1184632778167725\n",
      "Accuracy for RF is: 0.771 +/- 0.015\n",
      "AUC for RF is: 0.813 +/- 0.022\n",
      "Recall for RF is: 0.899 +/- 0.020\n"
     ]
    }
   ],
   "source": [
    "def run_classifiers(X, Y, classifiers)\n",
    "kf = KFold(n_splits=10, shuffle=True, random_state=0)\n",
    "kf2 = KFold(n_splits=5, shuffle=True, random_state=0)\n",
    "for i in clfs:\n",
    "    clf = clfs[i]\n",
    "    before= time.time()\n",
    "    cv_acc = cross_val_score(clf, Xtrain_norm, Ytrain, cv=kf)\n",
    "    after = time.time()\n",
    "    cv_auc = cross_val_score(clf, Xtrain_norm, Ytrain , cv=kf, scoring='roc_auc')\n",
    "    cv_recall = cross_val_score(clf, Xtrain_norm, Ytrain, cv=kf2, scoring='recall')\n",
    "    print(\"---------------------------\")\n",
    "    exec_time = after-before\n",
    "    print(\"Time for {0} to train is : {1}\".format(i, exec_time))\n",
    "    print(\"Accuracy for {0} is: {1:.3f} +/- {2:.3f}\".format(i, np.mean(cv_acc), np.std(cv_acc)))\n",
    "    print(\"AUC for {0} is: {1:.3f} +/- {2:.3f}\".format(i, np.mean(cv_auc), np.std(cv_auc)))\n",
    "    print(\"Recall for {0} is: {1:.3f} +/- {2:.3f}\".format(i, np.mean(cv_recall), np.std(cv_recall)))"
   ]
  },
  {
   "cell_type": "markdown",
   "metadata": {},
   "source": [
    "# Apprentissage supervisé : données hétérogènes"
   ]
  },
  {
   "cell_type": "code",
   "execution_count": 147,
   "metadata": {},
   "outputs": [],
   "source": [
    "credit=pd.read_csv('./datas/credit.data',sep=\"\\t\",header=0).to_numpy()"
   ]
  },
  {
   "cell_type": "code",
   "execution_count": 256,
   "metadata": {},
   "outputs": [],
   "source": [
    "X2_Brut = credit[:,:15]\n",
    "Y2_Brut = credit[:, 15:]"
   ]
  },
  {
   "cell_type": "code",
   "execution_count": 257,
   "metadata": {},
   "outputs": [],
   "source": [
    "X2_numeric_train = X2_Brut[:,[1,2,7,10,13,14]]\n",
    "X2_numeric_with_nan = np.where(X2_numeric_train=='?', np.nan, X2_numeric_train)"
   ]
  },
  {
   "cell_type": "code",
   "execution_count": 265,
   "metadata": {},
   "outputs": [],
   "source": [
    "X2_Train = X2_numeric_with_nan.astype(float)\n",
    "index_without_nan = ~np.isnan(X2_Train).any(axis=1)\n",
    "X2_Train = X2_Train[index_without_nan]\n",
    "Y2_Train = Y2_Brut[index_without_nan]"
   ]
  },
  {
   "cell_type": "code",
   "execution_count": 281,
   "metadata": {},
   "outputs": [
    {
     "name": "stdout",
     "output_type": "stream",
     "text": [
      "(665, 6)\n",
      "(665, 1)\n",
      "(array([665]), array(['+', '-'], dtype='<U1'))\n"
     ]
    }
   ],
   "source": [
    "print(X2_Train.shape)\n",
    "print(Y2_Train.shape)\n",
    "print(np.histogram(Y2_Train, bins=['+', '-']))"
   ]
  },
  {
   "cell_type": "code",
   "execution_count": 283,
   "metadata": {},
   "outputs": [
    {
     "data": {
      "text/plain": [
       "{'+': 298, '-': 367}"
      ]
     },
     "execution_count": 283,
     "metadata": {},
     "output_type": "execute_result"
    }
   ],
   "source": [
    "unique, counts = np.unique(Y2_Train, return_counts=True)\n",
    "dict(zip(unique, counts))"
   ]
  },
  {
   "cell_type": "code",
   "execution_count": 284,
   "metadata": {},
   "outputs": [],
   "source": [
    "Y2_Train = np.where(Y2_Train=='+', 1, 0)"
   ]
  },
  {
   "cell_type": "code",
   "execution_count": null,
   "metadata": {},
   "outputs": [],
   "source": []
  },
  {
   "cell_type": "code",
   "execution_count": null,
   "metadata": {},
   "outputs": [],
   "source": []
  }
 ],
 "metadata": {
  "kernelspec": {
   "display_name": "Python 3",
   "language": "python",
   "name": "python3"
  },
  "language_info": {
   "codemirror_mode": {
    "name": "ipython",
    "version": 3
   },
   "file_extension": ".py",
   "mimetype": "text/x-python",
   "name": "python",
   "nbconvert_exporter": "python",
   "pygments_lexer": "ipython3",
   "version": "3.7.9"
  }
 },
 "nbformat": 4,
 "nbformat_minor": 4
}
